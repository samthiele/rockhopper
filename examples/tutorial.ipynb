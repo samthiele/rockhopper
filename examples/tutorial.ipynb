{
 "cells": [
  {
   "cell_type": "code",
   "execution_count": 4,
   "metadata": {},
   "outputs": [],
   "source": [
    "import rockhopper\n",
    "from rockhopper import loadPLY, exportZA\n",
    "import numpy as np\n",
    "import os"
   ]
  },
  {
   "cell_type": "markdown",
   "metadata": {},
   "source": [
    "#### Loading data\n",
    "\n",
    "Lets load an example point cloud. `rockhopper` natively supports PLY format point clouds, which can easily be created/converted using e.g., [CloudCompare](https://www.danielgm.net/cc/).  \n",
    "\n",
    "In the following we load an example point cloud (you will probably need to change the path) and extract the point coordinates, colours, normals and scalar attributes."
   ]
  },
  {
   "cell_type": "code",
   "execution_count": 5,
   "metadata": {},
   "outputs": [
    {
     "name": "stdout",
     "output_type": "stream",
     "text": [
      "Loaded 16224567 points containing 1 attributes (['scalar_Illuminance_(PCV)'])\n"
     ]
    }
   ],
   "source": [
    "# load data from a PLY file\n",
    "cloud = loadPLY('/Users/thiele67/Documents/data/dolomites/HySpex/dolomites_5cm_UTM33N_clipped.ply')\n",
    "\n",
    "# retrieve attributes from resulting dict\n",
    "xyz = cloud['xyz']\n",
    "rgb = cloud['rgb']\n",
    "normals = cloud['normals']\n",
    "attr = cloud['attr']\n",
    "attr_names =  cloud['names']\n",
    "\n",
    "print(\"Loaded %d points containing %d attributes (%s)\"%(len(xyz), len(attr_names), attr_names))"
   ]
  },
  {
   "cell_type": "markdown",
   "metadata": {},
   "source": [
    "#### Preparing for Zarr\n",
    "\n",
    "Point data is served to our virtual field trip as a chunked array, using a compression and streaming tool called [zarr](https://zarr.readthedocs.io/en/stable/). \n",
    "\n",
    "To prepare for this, we need to concatenate our attributes into a single (n,d) array. This will contain all our (n) point coordinates, colours and attributes (d). At a minimum, coordinates and colours must be defined (d=6), but additional bands or properties can be included too (d > 6).\n",
    "\n",
    "In the following we do this such that for each point we have `x,y,z,r,g,b,i`, where `i` is the scalar field we loaded from our point cloud (see above)."
   ]
  },
  {
   "cell_type": "code",
   "execution_count": 6,
   "metadata": {},
   "outputs": [
    {
     "name": "stdout",
     "output_type": "stream",
     "text": [
      "(16224567, 7)\n"
     ]
    }
   ],
   "source": [
    "# combine into a single array layout for exporting\n",
    "xyzrgbattr = np.hstack([xyz, rgb, attr])\n",
    "print(xyzrgbattr.shape) # everything is concatenated now into a flat array"
   ]
  },
  {
   "cell_type": "code",
   "execution_count": 7,
   "metadata": {},
   "outputs": [],
   "source": [
    "xyzrgbattr[:,8:] = xyzrgbattr[:,8:] / 255 # convert to 0-1 range"
   ]
  },
  {
   "cell_type": "markdown",
   "metadata": {},
   "source": [
    "We also need to define which visualisation options we want available for this point cloud in our virtual field trip. We do this by creating a `style` dictionary that lets us define different true- and false-colour composites to view, and also define a colour-ramp for scalar attribute(s)."
   ]
  },
  {
   "cell_type": "code",
   "execution_count": 8,
   "metadata": {},
   "outputs": [],
   "source": [
    "vmn = np.percentile( xyz-np.mean(xyz,axis=0)[None,:], 2, axis=0) # value used as black for our false colour mapping\n",
    "vmx = np.percentile( xyz-np.mean(xyz,axis=0)[None,:], 98, axis=0) # value used as white for our false colour mapping\n",
    "stylesheet = { 'rgb':{'color':{'R':(3,0,1), # dimensions of our data array to map to \"red\", vmin, vmax\n",
    "                         'G':(4,0,1),'B':(5,0,1)} }, # other colors (to give true-colour visualisation) \n",
    "               'carbonate':{'color':{'R':(8,0,1), # example false colour visualisation\n",
    "                                'G':(9,0,1),'B':(10,0,1)}},\n",
    "               'clay':{'color':{'R':(11,0,1), # example false colour visualisation\n",
    "                                'G':(12,0,1),'B':(13,0,1)}},\n",
    "            }\n",
    "\n",
    "vmn = np.percentile( xyz[:,2]-np.mean(xyz[:,2]), 2, axis=0) # min value of colour ramp\n",
    "vmx = np.percentile( xyz[:,2]-np.mean(xyz[:,2]), 98, axis=0) # max value of colour ramp\n",
    "stylesheet['elev'] = {'color':(2, # index of attribute to colour map\n",
    "                             {'scale':'viridis', 'limits':(vmn,vmx,255)}) } # colour map properties\n",
    "\n",
    "vmn = np.percentile( attr[:,0], 2, axis=0) # min value of colour ramp\n",
    "vmx = np.percentile( attr[:,0], 98, axis=0) # max value of colour ramp\n",
    "stylesheet['illu'] = {'color':(6, {'scale':['#ca0020','#f4a582','#f7f7f7','#92c5de','#0571b0'], # use custom colours!\n",
    "                                   'limits':(vmn,vmx,16)})\n",
    "                      } # and use e.g., quantile limits instead of equidistant (e) ones.\n",
    "\n",
    "groups = {\n",
    "        \"dolomite\": {\n",
    "            \"blend\": 0.3,\n",
    "            \"color\": [ 1,  1, 0 ],\n",
    "            \"iq\": [ 7, \"=\", 0 ]\n",
    "        },\n",
    "        \"marl\": {\n",
    "            \"blend\": 0.3,\n",
    "            \"color\": [ 1, 1, 0\n",
    "            ],\n",
    "            \"iq\": [ 7, \"=\", 2\n",
    "            ]\n",
    "        },\n",
    "        \"scree\": {\n",
    "            \"mask\": [ 7, \"=\", 1 ]\n",
    "        }\n",
    "    }"
   ]
  },
  {
   "cell_type": "markdown",
   "metadata": {},
   "source": [
    "### Exporting to zarr\n",
    "\n",
    "Now we have everything needed to convert our points into zarr format. This is a directory structure that allows the front-end (our web-based virtual fieldtrip viewer) to stream points more efficiently. "
   ]
  },
  {
   "cell_type": "code",
   "execution_count": 9,
   "metadata": {},
   "outputs": [],
   "source": [
    "# create our new zarr directory here\n",
    "out_path = '../sandbox/test.zarr'"
   ]
  },
  {
   "cell_type": "code",
   "execution_count": 10,
   "metadata": {},
   "outputs": [
    {
     "name": "stderr",
     "output_type": "stream",
     "text": [
      "                                                                               \r"
     ]
    }
   ],
   "source": [
    "exportZA( xyzrgbattr, # our array to export\n",
    "          out_path, # the path to save this [for uploading to a server later]\n",
    "          chunk_size=200000, # number of points in each patch streamed to the viewer\n",
    "          resolution=0.1, # downsample our point cloud to this resolution (important to keep file size low)\n",
    "          stylesheet=stylesheet,\n",
    "          groups=groups) # groups define overlays (highlights) and masks (hide some points)\n"
   ]
  }
 ],
 "metadata": {
  "kernelspec": {
   "display_name": "hylite",
   "language": "python",
   "name": "python3"
  },
  "language_info": {
   "codemirror_mode": {
    "name": "ipython",
    "version": 3
   },
   "file_extension": ".py",
   "mimetype": "text/x-python",
   "name": "python",
   "nbconvert_exporter": "python",
   "pygments_lexer": "ipython3",
   "version": "3.11.7"
  }
 },
 "nbformat": 4,
 "nbformat_minor": 2
}
