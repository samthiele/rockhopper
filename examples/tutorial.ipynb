{
 "cells": [
  {
   "cell_type": "code",
   "execution_count": 2,
   "metadata": {},
   "outputs": [],
   "source": [
    "import rockhopper\n",
    "from rockhopper import VFT"
   ]
  },
  {
   "cell_type": "code",
   "execution_count": 3,
   "metadata": {},
   "outputs": [],
   "source": [
    "# rockhopper.ui.ingest('/Users/thiele67/Documents/Python/rockhopper/build') # only call this if you rebuild the React app"
   ]
  },
  {
   "cell_type": "markdown",
   "metadata": {},
   "source": [
    "#### Data preparation\n",
    "\n",
    "The first step of any new VFT is to gather and preprocess the required data. Normally this includes photographs, photospheres (stored in a single image; if you have photospheres stored in `cube` format see `rockhopper.utils.equirect_to_latlon(...)`) and point clouds.\n",
    "\n",
    "Point clouds are used for all 3D data format as most 3D objects (textured meshes, volumes, etc.) can be converted to point clouds using software like CloudCompare. `rockhopper` natively supports PLY format point clouds, although you can also use your custome file reader and pass it numpy arrays with shape (points,values), where values is at least x,y,z,r,g,b. [CloudCompare](https://www.cloudcompare.org/) can be used to convert most data types to PLY point clouds and prepare them for RockHopper VFTs (by e.g., adding classification scalar fields or setting point colours).\n",
    "\n",
    "In the following we load an example point cloud (you will probably need to change the path) and create a minimal tour using it.\n"
   ]
  },
  {
   "cell_type": "markdown",
   "metadata": {},
   "source": [
    "### Creating a tour\n",
    "\n",
    "Creating a new `rockhopper` tour is quite easy. You simply need to create a new `VFT` object and give it two separate directories:\n",
    "\n",
    "1. `vft_path` : The file path to the VFT. This is also used as the static folder for the Flask app and will contain all the text (markdown) content, images and other \"small\" media in your VFT. This directory is kept relatively small so it can e.g., be uploaded to GitHub for version tracking and, if you wish, web-hosting. \n",
    "\n",
    "2. `cloud_path` : The directory where the larger 3D point cloud data will be stored. As these can be quite large (especially for tours involving many different clouds) they are kept separate so they can eventually be hosted on some dedicated (static) cloud storage (e.g., Azure or Google Cloud).\n",
    "\n",
    "Typically when creating a new VFT we also specify the languages it will contain and, potentially, custom \"global\" tabs (that will be accessible from all of the sites in the VFT)."
   ]
  },
  {
   "cell_type": "code",
   "execution_count": 4,
   "metadata": {},
   "outputs": [],
   "source": [
    "from rockhopper.server import VFT\n",
    "\n",
    "# create a new VFT object\n",
    "vft = VFT( vft_path='../demo/demo_tour', \n",
    "           cloud_path='../demo/demo_clouds',\n",
    "           overwrite=True)\n",
    "\n",
    "# define the languages the VFT will be translated into (if I were talented enough...)\n",
    "vft.setLanguages([\"en\", \"es\", \"de\"]) # three languages in this vft\n",
    "vft.addTab(\"Index\", site=None) # add a global about tab. This will be visible from all sites in the VFT."
   ]
  },
  {
   "cell_type": "markdown",
   "metadata": {},
   "source": [
    "The main structure of the tour is stored in the `index.json` file in the `demo_tour` directory. This is also accessible from python via the `vft.index` dictionary. For example, we can see it's content as follows:"
   ]
  },
  {
   "cell_type": "code",
   "execution_count": 5,
   "metadata": {},
   "outputs": [
    {
     "data": {
      "text/plain": [
       "{'annotURL': './annotations.json',\n",
       " 'cloudURL': 'https://samthiele.github.io/rockhopper/demo_clouds',\n",
       " 'languages': ['en', 'es', 'de'],\n",
       " 'sites': {'annotations': {'labels': {'label1': {'html': '<a href=\"./#start\">Back to Start</a>',\n",
       "     'pos': [-89.3070683603627, 6.453969682108973, 42.48475772223648]},\n",
       "    'label10': {'html': 'Double click to delete an annotation',\n",
       "     'pos': [-90.0616752731552, 35.67709179092396, -20.960379560959208]},\n",
       "    'label11': {'html': '<a href=\\'./#start\\'>\\n<img src=\"./icon/hopper_64.png\" style=\"width:32px\"/>\\n</a>',\n",
       "     'pos': [-78.86555063047108, 7.067577531112685, 59.661385424993775]},\n",
       "    'label2': {'html': '<a href=\"./#annotations\">Annotations</a>',\n",
       "     'pos': [-98.55691455913562, 6.467017509780906, 8.362101712789695]},\n",
       "    'label3': {'html': '<a href=\"./#multimedia\">To Next Site</a>',\n",
       "     'pos': [-96.50527228671972, 6.220067832299003, -21.84307072323283]},\n",
       "    'label4': {'html': '<figure>\\n  <img src=\"https://upload.wikimedia.org/wikipedia/commons/thumb/0/00/Heic1311a.jpg/1280px-Heic1311a.jpg\" style=\"width: 256px;\">\\n  <figcaption>Searching deep space for the penguin and egg galaxy</figcaption>\\n</figure>',\n",
       "     'pos': [-56.109413773298705, 56.62256517828315, 58.90661954121005]},\n",
       "    'label5': {'html': 'Three points make a plane',\n",
       "     'pos': [-94.21342748718197, -18.104986450572337, 24.63859403537972]},\n",
       "    'label6': {'html': 'Use cmd+left click to add annotations (and enter to finish annotating)',\n",
       "     'pos': [-71.86679975051389, 65.78913125665107, 18.241135036009137]},\n",
       "    'label7': {'html': 'A single point adds a label or html element',\n",
       "     'pos': [-76.45129294868282, 60.0955467012539, 19.145899885627664]},\n",
       "    'label8': {'html': 'two or more points creates a polyline',\n",
       "     'pos': [-82.61346386488106, 53.749674587696425, 10.548428939428128]},\n",
       "    'label9': {'html': 'exactly three points defines a plane (disk)',\n",
       "     'pos': [-87.2262484077193, 46.77615530366972, 4.652058154293568]}},\n",
       "   'mediaType': 'photosphere',\n",
       "   'mediaURL': './img/site1/ps.jpg',\n",
       "   'tabs': {'Annotations': ['./md/annotations/annotations_en.md',\n",
       "     './md/annotations/annotations_es.md',\n",
       "     './md/annotations/annotations_de.md']},\n",
       "   'view': {'pos': [8.97291864221492, -3.055534009764471, -3.18597598160513],\n",
       "    'tgt': [0, 0, 0]}},\n",
       "  'clouds': {'labels': {'label1': {'html': '60 cm wingspan',\n",
       "     'pos': [0.1446579826474176, -0.9306759905452672, -0.6649694915454482]},\n",
       "    'label2': {'html': '45 to 60 cm tall',\n",
       "     'pos': [-0.5147439324405843, 0.04506328855519158, -0.5988797229267602]},\n",
       "    'label3': {'html': \"<a href='./#start'>Back to South Pole</a>\",\n",
       "     'pos': [0.8466405209715434, -2.346344467438102, -0.3975164174826747]}},\n",
       "   'mediaType': 'cloud',\n",
       "   'mediaURL': 'Penguin.zarr',\n",
       "   'pointSize': 0.01,\n",
       "   'tabs': {'Clouds': ['./md/clouds/clouds_en.md',\n",
       "     './md/clouds/clouds_es.md',\n",
       "     './md/clouds/clouds_de.md']},\n",
       "   'view': {'pos': [1.3791489981651144,\n",
       "     -4.897177357119292,\n",
       "     -0.3901283082600894],\n",
       "    'tgt': [-0.07684811458808041, -0.4996073659605804, -0.3485529156767414]}},\n",
       "  'hosting': {'labels': {'label1': {'html': \"<a href='./#start'>Back to Start</a>\",\n",
       "     'pos': [88.00664722541825, -0.39612788505187263, -45.56006140677459]},\n",
       "    'label4': {'html': \"<a href='./#hosting'>5. Hosting</a>\",\n",
       "     'pos': [95.30044012548358, 0.0677445020932413, -27.266514672535752]}},\n",
       "   'mediaType': 'photosphere',\n",
       "   'mediaURL': './img/site1/ps.jpg',\n",
       "   'tabs': {'Hosting': ['./md/hosting/hosting_en.md',\n",
       "     './md/hosting/hosting_es.md',\n",
       "     './md/hosting/hosting_de.md']},\n",
       "   'view': {'pos': [-9.667918165027164,\n",
       "     -2.359209027272198,\n",
       "     0.9825940769094379],\n",
       "    'tgt': [0, 0, 0]}},\n",
       "  'markdown': {'labels': {'label1': {'html': \"<a href='./#start'>Back to start</a>\",\n",
       "     'pos': [45.592517878879164, -2.36613807985176, 87.90199288156992]},\n",
       "    'label2': {'html': '<a href=\"./#markdown\">Markdown</a>',\n",
       "     'pos': [11.809260346933964, 3.099366118514229, 98.3545036066929]},\n",
       "    'label3': {'html': '<a href=\"./#annotations\">To Next Site</a>',\n",
       "     'pos': [-16.56666059402157, -4.136808654083575, 97.55970111786766]}},\n",
       "   'mediaType': 'photosphere',\n",
       "   'mediaURL': './img/site1/ps.jpg',\n",
       "   'tabs': {'Markdown': ['./md/markdown/markdown_en.md',\n",
       "     './md/markdown/markdown_es.md',\n",
       "     './md/markdown/markdown_de.md']},\n",
       "   'view': {'pos': [-1.4606746240318298,\n",
       "     0.2350027341783439,\n",
       "     -9.889954669139694],\n",
       "    'tgt': [0, 0, 0]}},\n",
       "  'multimedia': {'labels': {'label1': {'html': '<a href=\"./#start\">Back to Start</a>',\n",
       "     'pos': [-54.23000454734939, 3.2141035333664507, -82.81022813100357]},\n",
       "    'label2': {'html': '<a href=\"./#multimedia\">Multimedia</a>',\n",
       "     'pos': [-31.380652085321294, 2.9517505846811236, -93.99453431911786]},\n",
       "    'label3': {'html': \"<a href='./#clouds'>To Next Site</a>\",\n",
       "     'pos': [-9.925340940252093, 2.1321430476730967, -98.64699508261342]}},\n",
       "   'mediaType': 'photosphere',\n",
       "   'mediaURL': './img/site1/ps.jpg',\n",
       "   'tabs': {'Multimedia': ['./md/multimedia/multimedia_en.md',\n",
       "     './md/multimedia/multimedia_es.md',\n",
       "     './md/multimedia/multimedia_de.md']},\n",
       "   'view': {'pos': [4.5904125669214455, -1.285764070505752, 8.790615633756673],\n",
       "    'tgt': [0, 0, 0]}},\n",
       "  'site1': {'labels': {'label1': {'html': '<a href=\"./#markdown\">1. Markdown</a>',\n",
       "     'pos': [11.809260346933964, 3.099366118514229, 98.3545036066929]},\n",
       "    'label2': {'html': '<a href=\"./#annotations\">2. Annotations</a>',\n",
       "     'pos': [-98.55691455913562, 6.467017509780906, 8.362101712789695]},\n",
       "    'label3': {'html': '<a href=\"./#multimedia\">3. Multimedia</a>',\n",
       "     'pos': [-31.380652085321294, 2.9517505846811236, -93.99453431911786]},\n",
       "    'label4': {'html': \"<a href='./#hosting'>5. Hosting</a>\",\n",
       "     'pos': [95.30044012548358, 0.0677445020932413, -27.266514672535752]},\n",
       "    'label5': {'html': \"<a href='./#clouds'>4. Point clouds</a>\",\n",
       "     'pos': [27.39108414765349, -1.30799888668479, -95.21749680141637]}},\n",
       "   'mediaType': 'photosphere',\n",
       "   'mediaURL': './img/site1/ps.jpg',\n",
       "   'view': {'pos': [5.958244238363092, -4.074977498663532, -6.920540728974797],\n",
       "    'tgt': [0, 0, 0]}},\n",
       "  'site2': {'mediaType': 'cloud',\n",
       "   'mediaURL': 'Penguin.zarr',\n",
       "   'pointSize': 0.01,\n",
       "   'view': {'pos': [1.3791489981651084,\n",
       "     -4.8971773571193715,\n",
       "     -0.39012830826009026],\n",
       "    'tgt': [-0.07684811458808041, -0.4996073659605804, -0.3485529156767414]}}},\n",
       " 'synonyms': {'annotations': 'annotations',\n",
       "  'clouds': 'clouds',\n",
       "  'hosting': 'hosting',\n",
       "  'markdown': 'markdown',\n",
       "  'multimedia': 'multimedia',\n",
       "  'site1': 'site1',\n",
       "  'site2': 'site2',\n",
       "  'start': 'site1'},\n",
       " 'tabs': {'Help': ['./md/help_en.md', './md/help_es.md', './md/help_de.md'],\n",
       "  'Index': ['./md/index_en.md', './md/index_es.md', './md/index_de.md'],\n",
       "  'Notebook': ['./md/notes_en.md', './md/notes_es.md', './md/notes_de.md'],\n",
       "  'References': ['./md/references_en.md',\n",
       "   './md/references_es.md',\n",
       "   './md/references_de.md'],\n",
       "  '_order': ['Index', 'Help', 'Notebook', 'References']}}"
      ]
     },
     "execution_count": 5,
     "metadata": {},
     "output_type": "execute_result"
    }
   ],
   "source": [
    "vft.index"
   ]
  },
  {
   "cell_type": "markdown",
   "metadata": {},
   "source": [
    "We can also edit it and save the changes to disk; though do this with care as it can break the front-end app. In this example, we will specify the order in which the different (global) tabs are displayed:"
   ]
  },
  {
   "cell_type": "code",
   "execution_count": 6,
   "metadata": {},
   "outputs": [],
   "source": [
    "vft.index['tabs']['_order'] = ['Index', 'Help', 'Notebook', 'References'] # set the order that tabs are displayed in (from left to right)\n",
    "vft.writeIndex() # save these changes to disk"
   ]
  },
  {
   "cell_type": "markdown",
   "metadata": {},
   "source": [
    "### Stop 1 -- a photosphere\n",
    "\n",
    "Next we need to add some media to this tour. In this instance we will create two \"sites\", one with a 3D point cloud and one with a photosphere. First, the photosphere (as this is easiest)."
   ]
  },
  {
   "cell_type": "code",
   "execution_count": 7,
   "metadata": {},
   "outputs": [
    {
     "name": "stdout",
     "output_type": "stream",
     "text": [
      "Copying photosphere to img/site1/ps.jpg\n"
     ]
    }
   ],
   "source": [
    "vft.addPhotosphere(\n",
    " site='site1', # site name. Note that this will ALWAYS be converted to lower case for consistency. It defines the URL of this site in the tour.\n",
    " image='../demo_data/photosphere.jpg' # path to the photosphere image. This will be copied into the VFT folder structure.\n",
    ")"
   ]
  },
  {
   "cell_type": "markdown",
   "metadata": {},
   "source": [
    "You will see that this has copied the photosphere image into our VFT directory, ready to be eventually hosted on a public web server.\n",
    "\n",
    "But, for local development, it is nice to be able to run and interact with our VFT. This is done by spawning a local (Flask) server so we can interact with the VFT through the browser, using `vft.start()`. Click on the link that this creates to see the start of our VFT in action!\n",
    "\n",
    "## Starting a development server\n",
    "\n",
    "If you look in the `vft_path` directory you should now see a bunch of files. These are the \"web app\" that will become our virtual fieldtrip. Important files include:\n",
    "\n",
    " - `index.html` : the html file that will become the website our tour is launched through\n",
    " - `index.json` : a text (json) file defining the structure of our tour, including all the different sites, tabs, etc. Edit with care!\n",
    " - `img/` : a directory containig all the image data in our tour, including the photosphere image for site1. Feel free to add additional images here!\n",
    "\n",
    "Similarly, the `cloud` directory (or whatever you put for the `cloud_path`) should now have a `Penguin.zarr` directory. This contains all the little chunks of our penguin (poor penguin!) as well as the stylesheet and other attributes (stored in the `.zattrs` file).\n",
    "\n",
    "To see how this all fits together, we need to spawn a local webserver. This is as easy as `vft.start()`."
   ]
  },
  {
   "cell_type": "code",
   "execution_count": 8,
   "metadata": {},
   "outputs": [
    {
     "name": "stdout",
     "output_type": "stream",
     "text": [
      "Development server started at http://127.0.0.1:4002\n"
     ]
    }
   ],
   "source": [
    "vft.start()"
   ]
  },
  {
   "cell_type": "markdown",
   "metadata": {},
   "source": [
    "\n",
    "While we could build a full VFT exclusively by adding data and editing the `index.json` file, this is slow and tedious. Hence, when a VFT is running locally like this (in \"dev\" mode), the front-end web app can be used to make changes, add different views (\"sites\") of the data we have added, and build annotations that help explain your story.\n",
    "\n",
    "To explain how to use the web app to modify and build a VFT, see the description hosted [here]. Note that you will only be able to use the described functions when running a tour locally, so you should try some of the described features using the new VFT we created and launched above.\n",
    "\n",
    "Note that we can simeltaneously interact with our VFT through the web app (see link above), and with python. As an example, lets add some more pages to our VFT. These will use the same photosphere, but emphasise different content."
   ]
  },
  {
   "cell_type": "code",
   "execution_count": null,
   "metadata": {},
   "outputs": [],
   "source": [
    "# add three new \"sites\" that re-use the same photosphere.\n",
    "# (these will have the same 3D content but can have different annotations and tabs)\n",
    "vft.addSite(name='markdown', # the name of the new site\n",
    "            mediaURL='./img/site1/ps.jpg', # re-use the photosphere created above\n",
    "            mediaType='photosphere'\n",
    "            )\n",
    "vft.addTab(name='Markdown', site='markdown') # add a tab that will appear only at this site\n",
    "\n",
    "vft.addSite(name='annotations', # the name of the new site\n",
    "            mediaURL='./img/site1/ps.jpg', # re-use the photosphere created above\n",
    "            mediaType='photosphere'\n",
    "            )\n",
    "vft.addTab(name='Annotations', site='annotations') # add a tab that will appear only at this site\n",
    "\n",
    "vft.addSite(name='multimedia', # the name of the new site\n",
    "            mediaURL='./img/site1/ps.jpg', # re-use the photosphere created above\n",
    "            mediaType='photosphere'\n",
    "            )\n",
    "vft.addTab(name='Multimedia', site='multimedia') # add a tab that will appear only at this site\n",
    "\n",
    "vft.addSite(name='hosting', # the name of the new site\n",
    "            mediaURL='./img/site1/ps.jpg', # re-use the photosphere created above\n",
    "            mediaType='photosphere'\n",
    "            )\n",
    "vft.addTab(name='Hosting', site='hosting') # add a tab that will appear only at this site"
   ]
  },
  {
   "cell_type": "markdown",
   "metadata": {},
   "source": [
    "These various sites can be accessed based on their URL, as follows:\n",
    "\n",
    "- `./#markdown`\n",
    "- `./#annotations`\n",
    "- `./#multimedia`\n",
    "\n",
    "### URLs and \"sites'\n",
    "\n",
    "The first, and most important, thing to understand about `rockhopper` VFTs is that they are built using hyperlinks. Different sites are\n",
    "defined following the `#` part of the URL, such that `./#site1` will be a URL to \"site 1\" in our tour, and `./#site2` will be a url to site 2.\n",
    "\n",
    "Go ahead and change these URLs in the browser to see how this navigation works.\n",
    "\n",
    "Then, try adding the following to the markdown defining the \"Overview\" tab, to add links there that allow easy navigation through our tour:\n",
    "\n",
    "```\n",
    "\n",
    "## Tour index\n",
    "\n",
    "- [Site 1: Markdown](./#markdown)\n",
    "- [Site 2: Annotations](./#annotations)\n",
    "- [Site 3: Multimedia](./#multimedia)\n",
    "\n",
    "\n",
    "```\n",
    "\n",
    "After re-rendering the markdown (Shift+Enter) you should be able to click these links to navigate between the different sites. In this case, the underlying photosphere is the same so not much will change -- but, different Tabs should appear ready to host customised content for each one of these sites.\n",
    "\n",
    "You can/should also change the default camera position for each site, by clicking the \"Save view\" button and then clicking \"Ok\" (more on the popup later -- this can be used to create new sites from the GUI!).\n",
    "\n",
    "### Annotation and 3D links\n",
    "\n",
    "It is also possible to add links or other html content into the 3D viewer. To do this, use `Cmd+Left click` to select a point in the model or photosphere (a small yellow sphere should appear) and then press `Enter`. Another popup should open asking you to `Enter label (text or html)`. You can add a label here (e.g., \"Cool thing here\") and it will be rendered in the 3D viewer. More usefully, you can also put ANY html element here (e.g., images, links, etc. ... though larger elements will be ugly). \n",
    "\n",
    "Most useful are 3D links, which can be used to add navigation elements that appear in the 3D viewer. To do this create a new point (as before), press `Enter` and add the following html in the pop-up window:\n",
    "\n",
    "```\n",
    "<a href='./#start'>Back to start</a>\n",
    "```\n",
    "\n",
    "A shaded black rectangle should then appear, with a link in it that will take you from e.g., the \"markdown\" page back to the \"start\".\n",
    "\n",
    "\n",
    "----\n",
    "\n",
    "***Exercise:** Add a 3D links that allow us to navigate between the `markdown`, `annotations`, and `multimedia` pages.*\n",
    "\n",
    "----\n",
    "\n",
    "### Lines and planes\n",
    "\n",
    "Annotations can also be more than points; if you `Cmd+Left click` more than once then a 3D polyline will be drawn, which can be useful for highlighting some structures or geometries. If a polyline with exactly 3 vertices is defined then it will be displayed as a best-fit plane (disk), which can be useful for geological structures like bedding.\n",
    "\n",
    "`Double-click` unwanted annotations to delete them. \n",
    "\n",
    "----\n",
    "\n",
    "***Exercise:** Draw an annotation that outlines the milky way.*\n",
    "\n",
    "----\n",
    "\n",
    "### Views and \"sites\"\n",
    "\n",
    "If you click the `Save view` button in the web app (lower left of screen), you will notice a pop-up that asks `Enter new site name (or nothing to update current site)`. If you leave this blank (click ok) then it will update the default view position for this scene. Very useful!\n",
    "\n",
    "If you add a new name, for example `site1b`, it will create an exact copy of the current site that can, for example, host different text or show different annotations (to explaining something different using the same media). As an example, try adding a `site1b` which has different annotation content to `site1a`. If you update your navigation links (or manually navigate using the URL bar in your browser) then you will see these get toggled on and off. Sub-sites like this can also be useful for pre-storing different views at e.g., different locations in an outcrop.\n",
    "\n",
    "----\n",
    "\n",
    "***Exercise:** Create different subsites (site1a, site1b, etc) for the photosphere and give these (i) different default views, and (ii) different annotations and labels highlighting different themes (e.g., the geology, the landscape, the vegetation, the unhappy graffiti, etc.).*\n",
    "\n",
    "----\n",
    "\n",
    "Now you have all the building blocks of a remarkably sophisticated VFT!\n",
    "\n",
    "### The `index.json` file\n",
    "\n",
    "Once you are finished with these changes and updates, have a look at the `index.json` file in your tour directory. This stores all the different sites you made, and it can sometimes be useful to edit it directly. In particular, note how all of the labels, default view and tabs (we'll come to that later) are stored for each site.\n",
    "\n",
    "### Shutdown\n",
    "\n",
    "Finally, since we started a web-server, it is important to stop it when we're done (or by restarting the jupyter kernel)."
   ]
  },
  {
   "cell_type": "code",
   "execution_count": 9,
   "metadata": {},
   "outputs": [],
   "source": [
    "vft.stop()"
   ]
  },
  {
   "cell_type": "markdown",
   "metadata": {},
   "source": [
    "### Stop 2 -- a point cloud\n",
    "\n",
    "And now we add stop 2 with the point cloud. This is slightly more complex as we need to create a \"symbology\" dictionary describing the different options for visualising the point cloud. A key design feature of `rockhopper` is that a single point cloud can have many different colour schemes (e.g., true colour, false colour, elevation, etc.).\n",
    "\n",
    "These schemes (or colour mappings) are defined as key : value pairs in the a stylesheet dictionary. The key gives the name of the style (which will be displayed in the tour in the top left of the 3D viewer) while the value is another dictionary that define the RGB `colour`of points in the cloud. Two different options are available:\n",
    "\n",
    " 1. Ternary colour mappings, such as `'color':{'R':(3,0,1), 'G':(4,0,1),'B':(5,0,1)}`\n",
    " 2. Color ramps, such as `'elev':(2, {'scale':'viridis', 'limits':(-100,100,255)}) }`\n",
    "\n",
    "A ternary colour mapping is a dict where the keys indicate the `R`,`G`, and `B` channels, and the values give the (`index`, `minimum_value`, `maximum_value`), such that `'R':(3,0,1)` means the red channel will be determined by the `my_cloud[:,3]` data and mapped to be 0 at `minimum_value` and 255 at `maximum_value`.\n",
    "\n",
    "Color ramps work similarly, except that the tuple has two elements, the first indicating which index of `my_cloud` is taken and the second containing a dictionary defining the color scale to use and its (`minimum_value`, `maximum_value` and `nsteps`). Colour scales can be any valid string indicating a (chroma.js)[https://gka.github.io/chroma.js/] color ramp.\n",
    "\n",
    "The above is most easily explained using the following example (incidentally the default):\n",
    "\n",
    "```\n",
    "stylesheet = {'rgb':{'R':(3,0,1),'G':(4,0,1),'B':(5,0,1)}, # map band 3, 4 and 5 of the cloud array to R, G and B\n",
    "              'elev':(2, {'scale':'viridis', 'limits':(-100,100,255)}) }` # define colours using a coloramp of index 2 (the z-coordinate)\n",
    "```\n",
    "\n",
    "-------\n",
    "\n",
    "***Important Note**: If numpy arrays are passed to `addCloud` it is assumed that each point is an array of `[x,y,z,r,g,b,attr_1,attr_2,...,attr_n]`. If a path is passed then `loadPLY` is used to parse it and convert to the above numpy array format. Hence why the `rgb` symbology\n",
    "uses cloud indices 3,4 and 5, and why the `elevation` colour-ramp uses index 2.*\n",
    "\n",
    "------"
   ]
  },
  {
   "cell_type": "code",
   "execution_count": 10,
   "metadata": {},
   "outputs": [
    {
     "name": "stdout",
     "output_type": "stream",
     "text": [
      "Building stream with shape (610451, 7)\n"
     ]
    },
    {
     "name": "stderr",
     "output_type": "stream",
     "text": [
      "                                                                           \r"
     ]
    }
   ],
   "source": [
    "# define a style that displays RGB and an additional attribute mapped using a colour ramp\n",
    "stylesheet = { 'rgb':{'color':{'R':(3,0,1), # satellite RGB \n",
    "                               'G':(4,0,1),\n",
    "                               'B':(5,0,1)}},\n",
    "               'rainbow':{'color':(1, # map the second channel of the cloud (in this case the y-coordinate) to colour\n",
    "                                   {'scale':'spectral', 'limits':(-2,2,255)})}, # using this colour ramp and 255 steps\n",
    "             }\n",
    "\n",
    "# convert a PLY point cloud to a streamable format and add it to our tour\n",
    "vft.addCloud( \n",
    "  'clouds', # site name. Note that this will ALWAYS be converted to lower case for consistency. It defines the URL of this site in the tour.\n",
    "  'Penguin', # the name of the zarr file to create (and its URL when hosted elsewhere). Note that these can be re-used.\n",
    "  '../demo_data/penguin.ply', # the path to our point cloud\n",
    "   resolution=0.01, # the minimum distance between points (used to downsample clouds and keep filesize down). In this case 1cm.\n",
    "   stylesheet=stylesheet ) # the colours to use (see above)"
   ]
  },
  {
   "cell_type": "code",
   "execution_count": 11,
   "metadata": {},
   "outputs": [],
   "source": [
    "vft.addTab(name='Clouds', site='clouds') # add a tab that will appear only at this site"
   ]
  },
  {
   "cell_type": "markdown",
   "metadata": {},
   "source": [
    "Lets start our development server again so we can see the results.\n",
    "\n",
    "Be sure to navigate to `./#site2` to see the point cloud."
   ]
  },
  {
   "cell_type": "code",
   "execution_count": 12,
   "metadata": {},
   "outputs": [
    {
     "name": "stdout",
     "output_type": "stream",
     "text": [
      "Development server started at http://127.0.0.1:4002\n"
     ]
    }
   ],
   "source": [
    "vft.start()"
   ]
  },
  {
   "cell_type": "markdown",
   "metadata": {},
   "source": [
    "### Point groups\n",
    "\n",
    "In additional colour schemes, point clouds can also have point \"groups\" defined. These either (1) highlight different regions of the point cloud with an emphasis colour, to draw attention to specific features, or (2) toggle the visibility of certain points (to allow e.g., multi-temporal point cloud data).\n",
    "\n",
    "In the following example, we define a group dictionary that shows how these custom visualisations are defined based on inequalities with respect to some attribute of the point cloud (typically, but not necessarily, a classification scalar field)"
   ]
  },
  {
   "cell_type": "code",
   "execution_count": null,
   "metadata": {},
   "outputs": [],
   "source": [
    "# in addition to the stylesheet, we can pass mask and group elements to add extra visualisation options\n",
    "groups = {\n",
    "    \"wings\" : { # this will add a button that highlights the penguin wings in yellow\n",
    "        \"blend\" : 0.3, # the strength of the colour overlay\n",
    "        \"color\" : [1,1,0], # the RGB colour to use for the overlay (if activated)\n",
    "        \"iq\" : [6, '=', 3] # highlight if the 6th cloud attribute (first scalar field; first six attrs are xyzrgb) is equal to 3\n",
    "    },\n",
    "    \"legs\" : {  # this will add a button that highlights the penguin legs in yellow\n",
    "        \"blend\" : 0.3, # the strength of the colour overlay\n",
    "        \"color\" : [1,1,0], # the RGB colour to use for the overlay (if activated)\n",
    "        \"iq\" : [6, '=', 1] # highlight if the 7th cloud attribute (first scalar field; first six attrs are xyzrgb) is equal to 1\n",
    "    },\n",
    "    \"body\" : { # this will add a button that highlights the penguin body in yellow\n",
    "        \"blend\" : 0.3, # the strength of the colour overlay\n",
    "        \"color\" : [1,1,0], # the RGB colour to use for the overlay (if activated)\n",
    "        \"iq\" : [6, '=', 2] # highlight if the 6th cloud attribute (first scalar field; first six attrs are xyzrgb) is equal to 2\n",
    "    },\n",
    "    \"skeleton\" : { #  this will add a button that hides the penguin body points so that the skeleton is visible\n",
    "        \"mask\" : [6, '!=', 0] # mask if the 6th cloud attribute (first scalar field; first six attrs are xyzrgb) is greater than 0\n",
    "    }\n",
    "}\n",
    "\n",
    "# convert a PLY point cloud to a streamable format and add it to our tour\n",
    "vft.addCloud( \n",
    "  'site2', # site name. Note that this will ALWAYS be converted to lower case for consistency. It defines the URL of this site in the tour.\n",
    "  'Penguin', # the name of the zarr file to create (and its URL when hosted elsewhere). Note that these can be re-used.\n",
    "  '../demo_data/penguin.ply', # the path to our point cloud\n",
    "   resolution=0.01, # the minimum distance between points (used to downsample clouds and keep filesize down). In this case 1cm.\n",
    "   stylesheet=stylesheet, # the colours to use (see above)\n",
    "   groups=groups, # the groups to allow highlighting and masking (see above)\n",
    ") "
   ]
  },
  {
   "cell_type": "code",
   "execution_count": 14,
   "metadata": {},
   "outputs": [],
   "source": [
    "vft.stop()"
   ]
  },
  {
   "cell_type": "markdown",
   "metadata": {},
   "source": [
    "# Publishing a VFT\n",
    "\n",
    "Once a VFT has been constructed in dev-mode, we naturally want to publish it to the web. If you have access to a static web-server then this is very easy -- simply copy the `vft_path` and `cloud_path` directories you chose onto this webserver (both must be publically accessible) and then update the `cloudURL` entry in the `index.json` file to point to your `cloud_path`.\n",
    "\n",
    "If you don't have your own webserver (unlucky), then the following workflow can be used to (1) upload and server the point cloud data from Google Cloud, and (2) publish your VFT using GitHub pages. For smaller point cloud collections (<500 Mb total) then then everything can be hosted on GitHub.\n",
    "\n",
    "See [here](https://samthiele.github.io/rockhopper/demo_tour/index.html#/hosting) for more details on how to publish a VFT so that it is publically accessible.\n",
    "\n",
    "----\n",
    "\n",
    "***Important note:** Google Cloud has a free trial of several months, after which you will be charged based on how often the clouds you host there are accessed. Unless your VFT becomes a wildly viral hit then these fees will be tiny (a few cents per month).* \n",
    "\n",
    "----"
   ]
  }
 ],
 "metadata": {
  "kernelspec": {
   "display_name": "hylite",
   "language": "python",
   "name": "python3"
  },
  "language_info": {
   "codemirror_mode": {
    "name": "ipython",
    "version": 3
   },
   "file_extension": ".py",
   "mimetype": "text/x-python",
   "name": "python",
   "nbconvert_exporter": "python",
   "pygments_lexer": "ipython3",
   "version": "3.13.5"
  }
 },
 "nbformat": 4,
 "nbformat_minor": 2
}
