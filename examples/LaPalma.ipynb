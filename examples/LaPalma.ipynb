{
 "cells": [
  {
   "cell_type": "code",
   "execution_count": 1,
   "metadata": {},
   "outputs": [],
   "source": [
    "import rockhopper\n",
    "from rockhopper import VFT"
   ]
  },
  {
   "cell_type": "code",
   "execution_count": 2,
   "metadata": {},
   "outputs": [],
   "source": [
    "# update RockHopper UI files\n",
    "rockhopper.ui.ingest('/Users/thiele67/Documents/Python/rockhopper/build')"
   ]
  },
  {
   "cell_type": "code",
   "execution_count": 3,
   "metadata": {},
   "outputs": [],
   "source": [
    "vft = VFT( vft_path='/Users/thiele67/Documents/data/LaPalma/VFT', \n",
    "           cloud_path='/Users/thiele67/Documents/data/LaPalma/Streams',\n",
    "           overwrite=True)\n",
    "\n",
    "vft.setLanguages([\"en\", \"es\", \"de\"]) # three languages in this vft\n",
    "vft.addTab(\"References\", site=None) # add a global about tab"
   ]
  },
  {
   "cell_type": "code",
   "execution_count": 4,
   "metadata": {},
   "outputs": [
    {
     "name": "stdout",
     "output_type": "stream",
     "text": [
      "Building stream with shape (4885189, 9)\n"
     ]
    },
    {
     "name": "stderr",
     "output_type": "stream",
     "text": [
      "                                                                             \r"
     ]
    }
   ],
   "source": [
    "# define a style that allows both satellite (bands 3,4,5) and geology (bands 6,7,8)\n",
    "stylesheet = { 'rgb':{'color':{'R':(3,0,1), # satellite RGB \n",
    "                               'G':(4,0,1),\n",
    "                               'B':(5,0,1)} },\n",
    "               'geology':{'color':{'R':(6,0,255), # geology map\n",
    "                                   'G':(7,0,255),\n",
    "                                   'B':(8,0,255)}},\n",
    "            }\n",
    "\n",
    "# convert a PLY point cloud to a streamable format and add it to our tour\n",
    "vft.addCloud( 'overview', 'LaPalma',\n",
    "              '/Users/thiele67/Documents/data/LaPalma/Clouds/LaPalma_2z_post.ply',\n",
    "              resolution=30, stylesheet=stylesheet )"
   ]
  },
  {
   "cell_type": "code",
   "execution_count": 5,
   "metadata": {},
   "outputs": [],
   "source": [
    "# add Guide tab to Overview site\n",
    "vft.addTab(\"Guide\", site='overview') # add a global about tab"
   ]
  },
  {
   "cell_type": "code",
   "execution_count": 6,
   "metadata": {},
   "outputs": [
    {
     "name": "stdout",
     "output_type": "stream",
     "text": [
      "Copying photosphere to img/petroglyphs/ps.jpg\n"
     ]
    }
   ],
   "source": [
    "# add a photosphere to our tour\n",
    "vft.addPhotosphere(site='petroglyphs', image='/Users/thiele67/Downloads/petroglyphs.jpg')\n",
    "\n",
    "# add a \"Guide\" tab for the petroglyphs site\n",
    "vft.addTab(\"Guide\", site='petroglyphs') # add a global about tab"
   ]
  },
  {
   "cell_type": "code",
   "execution_count": 4,
   "metadata": {},
   "outputs": [
    {
     "name": "stdout",
     "output_type": "stream",
     "text": [
      "Development server started at http://127.0.0.1:4002\n"
     ]
    }
   ],
   "source": [
    "vft.start()"
   ]
  },
  {
   "cell_type": "code",
   "execution_count": 8,
   "metadata": {},
   "outputs": [],
   "source": [
    "vft.stop()"
   ]
  },
  {
   "cell_type": "code",
   "execution_count": 6,
   "metadata": {},
   "outputs": [
    {
     "ename": "KeyError",
     "evalue": "'site3b'",
     "output_type": "error",
     "traceback": [
      "\u001b[0;31m---------------------------------------------------------------------------\u001b[0m",
      "\u001b[0;31mKeyError\u001b[0m                                  Traceback (most recent call last)",
      "Cell \u001b[0;32mIn[6], line 1\u001b[0m\n\u001b[0;32m----> 1\u001b[0m \u001b[43mvft\u001b[49m\u001b[38;5;241;43m.\u001b[39;49m\u001b[43mindex\u001b[49m\u001b[43m[\u001b[49m\u001b[38;5;124;43m'\u001b[39;49m\u001b[38;5;124;43msites\u001b[39;49m\u001b[38;5;124;43m'\u001b[39;49m\u001b[43m]\u001b[49m\u001b[43m[\u001b[49m\u001b[38;5;124;43m'\u001b[39;49m\u001b[38;5;124;43msite3b\u001b[39;49m\u001b[38;5;124;43m'\u001b[39;49m\u001b[43m]\u001b[49m\n",
      "\u001b[0;31mKeyError\u001b[0m: 'site3b'"
     ]
    }
   ],
   "source": [
    "vft.index['sites']['site3b']"
   ]
  },
  {
   "cell_type": "code",
   "execution_count": null,
   "metadata": {},
   "outputs": [],
   "source": []
  }
 ],
 "metadata": {
  "kernelspec": {
   "display_name": "hylite",
   "language": "python",
   "name": "python3"
  },
  "language_info": {
   "codemirror_mode": {
    "name": "ipython",
    "version": 3
   },
   "file_extension": ".py",
   "mimetype": "text/x-python",
   "name": "python",
   "nbconvert_exporter": "python",
   "pygments_lexer": "ipython3",
   "version": "3.11.7"
  }
 },
 "nbformat": 4,
 "nbformat_minor": 2
}
